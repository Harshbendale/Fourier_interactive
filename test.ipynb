{
 "cells": [
  {
   "cell_type": "code",
   "execution_count": 9,
   "metadata": {},
   "outputs": [
    {
     "data": {
      "application/vnd.jupyter.widget-view+json": {
       "model_id": "3b42e6b3b95e496a85667f474ca8a726",
       "version_major": 2,
       "version_minor": 0
      },
      "text/plain": [
       "interactive(children=(FloatSlider(value=0.0, description='a1', max=1.0, min=-1.0), FloatSlider(value=0.0, desc…"
      ]
     },
     "metadata": {},
     "output_type": "display_data"
    },
    {
     "data": {
      "text/plain": [
       "<function __main__.fourier_func(a1, a2, a3, a4, b1, b2, b3, b4, w)>"
      ]
     },
     "execution_count": 9,
     "metadata": {},
     "output_type": "execute_result"
    }
   ],
   "source": [
    "import numpy as np\n",
    "import matplotlib as mpl\n",
    "import matplotlib.pyplot as plt\n",
    "%matplotlib inline\n",
    "plt.rcParams['figure.figsize']=(6,4)\n",
    "plt.rcParams['figure.dpi']=150\n",
    "import ipywidgets as widgets\n",
    "\n",
    "def fourier_func(a1,a2,a3,a4,b1,b2,b3,b4,w):\n",
    "    Fs = 8000\n",
    "    sample = 8000\n",
    "    x = np.arange(sample)\n",
    "    y1 = a1*(np.cos(1 * w * x / Fs)) + b1*(np.sin(1 * w * x / Fs))\n",
    "    y2 = a2*(np.cos(2 * w * x / Fs)) + b2*(np.sin(2 * w * x / Fs))\n",
    "    y3 = a3*(np.cos(3 * w * x / Fs)) + b3*(np.sin(3 * w * x / Fs))\n",
    "    y4 = a4*(np.cos(4 * w * x / Fs)) + b4*(np.sin(4 * w * x / Fs))\n",
    "    y = y1 + y2 + y3 + y4\n",
    "    plt.plot(x, y)\n",
    "\n",
    "widgets.interact(fourier_func,a1=(-1,1,0.1),a2=(-1,1,0.1),a3=(-1,1,0.1),a4=(-1,1,0.1),b1=(-1,1,0.1),b2=(-1,1,0.1),b3=(-1,1,0.1),b4=(-1,1,0.1),w=3)"
   ]
  }
 ],
 "metadata": {
  "kernelspec": {
   "display_name": "p36",
   "language": "python",
   "name": "p36"
  },
  "language_info": {
   "codemirror_mode": {
    "name": "ipython",
    "version": 3
   },
   "file_extension": ".py",
   "mimetype": "text/x-python",
   "name": "python",
   "nbconvert_exporter": "python",
   "pygments_lexer": "ipython3",
   "version": "3.6.9"
  }
 },
 "nbformat": 4,
 "nbformat_minor": 2
}
