{
 "cells": [
  {
   "cell_type": "code",
   "execution_count": 1,
   "metadata": {},
   "outputs": [
    {
     "data": {
      "application/vnd.jupyter.widget-view+json": {
       "model_id": "4d5c1ce318424120b901c5768f1ca564",
       "version_major": 2,
       "version_minor": 0
      },
      "text/plain": [
       "interactive(children=(IntSlider(value=1, description='a1', max=3, min=-1), IntSlider(value=1, description='a2'…"
      ]
     },
     "metadata": {},
     "output_type": "display_data"
    },
    {
     "data": {
      "text/html": [
       "<script>\n",
       "$('div.input').hide();\n",
       "</script>"
      ],
      "text/plain": [
       "<IPython.core.display.HTML object>"
      ]
     },
     "execution_count": 1,
     "metadata": {},
     "output_type": "execute_result"
    }
   ],
   "source": [
    "import numpy as np\n",
    "import matplotlib as mpl\n",
    "import matplotlib.pyplot as plt\n",
    "%matplotlib inline\n",
    "plt.rcParams['figure.figsize']=(6,4)\n",
    "plt.rcParams['figure.dpi']=150\n",
    "from ipywidgets import interact, interactive, fixed, interact_manual\n",
    "import ipywidgets as widgets\n",
    "\n",
    "def fourier_func(a1,a2,a3,a4,b1,b2,b3,b4,w):\n",
    "    Fs = 8000\n",
    "    sample = 8000\n",
    "    x = np.arange(sample)\n",
    "    y1 = a1*(np.cos(1 * w * x / Fs)) + b1*(np.sin(1 * w * x / Fs))\n",
    "    y2 = a2*(np.cos(2 * w * x / Fs)) + b2*(np.sin(2 * w * x / Fs))\n",
    "    y3 = a3*(np.cos(3 * w * x / Fs)) + b3*(np.sin(3 * w * x / Fs))\n",
    "    y4 = a4*(np.cos(4 * w * x / Fs)) + b4*(np.sin(4 * w * x / Fs))\n",
    "    y = y1 + y2 + y3 + y4\n",
    "    plt.plot(x, y)\n",
    "\n",
    "interact(fourier_func,a1=1,a2=1,a3=1,a4=1,b1=1,b2=1,b3=1,b4=1,w=3)\n",
    "\n",
    "from IPython.display import HTML\n",
    "\n",
    "HTML('''<script>\n",
    "$('div.input').hide();\n",
    "</script>''')"
   ]
  },
  {
   "cell_type": "code",
   "execution_count": null,
   "metadata": {},
   "outputs": [],
   "source": []
  }
 ],
 "metadata": {
  "kernelspec": {
   "display_name": "Python 3",
   "language": "python",
   "name": "python3"
  },
  "language_info": {
   "codemirror_mode": {
    "name": "ipython",
    "version": 3
   },
   "file_extension": ".py",
   "mimetype": "text/x-python",
   "name": "python",
   "nbconvert_exporter": "python",
   "pygments_lexer": "ipython3",
   "version": "3.6.9"
  }
 },
 "nbformat": 4,
 "nbformat_minor": 2
}
